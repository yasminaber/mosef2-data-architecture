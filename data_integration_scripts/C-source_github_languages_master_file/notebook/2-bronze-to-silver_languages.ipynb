{
 "cells": [
  {
   "cell_type": "code",
   "execution_count": 9,
   "metadata": {},
   "outputs": [],
   "source": [
    "from os import environ\n",
    "import pandas as pd\n",
    "import json\n",
    "import boto3"
   ]
  },
  {
   "cell_type": "code",
   "execution_count": 2,
   "metadata": {},
   "outputs": [],
   "source": [
    "aws_access_key_id = environ.get('aws_access_key_id')\n",
    "aws_secret_access_key = environ.get('aws_secret_access_key')\n",
    "\n"
   ]
  },
  {
   "cell_type": "code",
   "execution_count": 3,
   "metadata": {},
   "outputs": [],
   "source": [
    "def read_json_s3(aws_credentials,bucket,filepath):\n",
    "    session = boto3.Session(aws_credentials[\"key\"],aws_credentials[\"secret\"])\n",
    "    s3 = session.resource('s3')\n",
    "    content_object = s3.Object(bucket, filepath)\n",
    "    file_content = content_object.get()['Body'].read()\n",
    "    json_content = json.loads(file_content)\n",
    "    return json_content"
   ]
  },
  {
   "cell_type": "code",
   "execution_count": 5,
   "metadata": {},
   "outputs": [],
   "source": [
    "def unnest_json_languages(json_object):\n",
    "    languages = []\n",
    "    for language_code in json_object.keys():\n",
    "        json_object[language_code][\"language_code\"] = language_code\n",
    "        languages.append(json_object[language_code])\n",
    "    return languages"
   ]
  },
  {
   "cell_type": "code",
   "execution_count": 6,
   "metadata": {},
   "outputs": [],
   "source": [
    "def df_write_s3_parquet_file(aws_credentials,df,bucket,filepath):\n",
    "    df.to_parquet(\"s3://{bucket}/{filepath}\".format(\n",
    "        bucket=bucket,\n",
    "        filepath=filepath),\n",
    "                      storage_options=aws_credentials)\n",
    "    return df"
   ]
  },
  {
   "cell_type": "code",
   "execution_count": 7,
   "metadata": {},
   "outputs": [],
   "source": [
    "def main():\n",
    "    aws_credentials = { \"key\": aws_access_key_id, \"secret\": aws_secret_access_key}\n",
    "    bronze_bucket = 'cars-benchmark-bronze'\n",
    "    silver_bucket = 'cars-benchmark-silver'\n",
    "    src_filepath = 'github/languages.json'\n",
    "    trg_filepath = 'github/languages.parquet'\n",
    "    json_languages = read_json_s3(aws_credentials,bronze_bucket,src_filepath)\n",
    "    languages = unnest_json_languages(json_languages)\n",
    "    df = pd.DataFrame(languages)\n",
    "    df_write_s3_parquet_file(aws_credentials,df,silver_bucket,trg_filepath)\n",
    "    return 0"
   ]
  },
  {
   "cell_type": "code",
   "execution_count": 11,
   "metadata": {},
   "outputs": [],
   "source": [
    "if __name__ == \"__main__\":\n",
    "    # execute only if run as a script\n",
    "    main()"
   ]
  }
 ],
 "metadata": {
  "kernelspec": {
   "display_name": "Python 3",
   "language": "python",
   "name": "python3"
  },
  "language_info": {
   "codemirror_mode": {
    "name": "ipython",
    "version": 3
   },
   "file_extension": ".py",
   "mimetype": "text/x-python",
   "name": "python",
   "nbconvert_exporter": "python",
   "pygments_lexer": "ipython3",
   "version": "3.8.3"
  }
 },
 "nbformat": 4,
 "nbformat_minor": 4
}
