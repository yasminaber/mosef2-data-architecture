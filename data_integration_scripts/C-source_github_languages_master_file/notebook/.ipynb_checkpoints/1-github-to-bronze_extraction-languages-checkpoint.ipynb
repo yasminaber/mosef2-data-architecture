{
 "cells": [
  {
   "cell_type": "code",
   "execution_count": 1,
   "metadata": {},
   "outputs": [],
   "source": [
    "import requests\n",
    "import boto3\n",
    "from os import environ"
   ]
  },
  {
   "cell_type": "code",
   "execution_count": 2,
   "metadata": {},
   "outputs": [],
   "source": [
    "aws_access_key_id = environ.get('aws_access_key_id')\n",
    "aws_secret_access_key = environ.get('aws_secret_access_key')\n",
    "\n"
   ]
  },
  {
   "cell_type": "code",
   "execution_count": 3,
   "metadata": {},
   "outputs": [],
   "source": [
    "def download_github_masterdata_file(url):\n",
    "    request = requests.get(url)\n",
    "    return request.text"
   ]
  },
  {
   "cell_type": "code",
   "execution_count": 4,
   "metadata": {},
   "outputs": [],
   "source": [
    "def upload_file_to_s3(session,bucket,file):\n",
    "    s3 = session.resource('s3')\n",
    "    object = s3.Object(bucket, file[\"file_path\"])\n",
    "    object.put(Body=file[\"file_content\"])"
   ]
  },
  {
   "cell_type": "code",
   "execution_count": 7,
   "metadata": {},
   "outputs": [],
   "source": [
    "def main():\n",
    "    s3_session = boto3.Session(aws_access_key_id,aws_secret_access_key)\n",
    "    bronze_bucket = 'cars-benchmark-bronze'\n",
    "    github_master_file_url='https://raw.githubusercontent.com/annexare/Countries/master/data/languages.json'\n",
    "    s3_filedir = 'github'\n",
    "    s3_filename = 'languages.json'\n",
    "    s3_filepath = s3_filedir + '/'  + s3_filename\n",
    "    file = {\"file_path\" : s3_filepath, \"file_content\": download_github_masterdata_file(github_master_file_url)}\n",
    "    upload_file_to_s3(s3_session,bronze_bucket,file)\n",
    "    return 0"
   ]
  },
  {
   "cell_type": "code",
   "execution_count": 8,
   "metadata": {
    "scrolled": true
   },
   "outputs": [],
   "source": [
    "if __name__ == \"__main__\":\n",
    "    # execute only if run as a script\n",
    "    main()"
   ]
  }
 ],
 "metadata": {
  "kernelspec": {
   "display_name": "Python 3",
   "language": "python",
   "name": "python3"
  },
  "language_info": {
   "codemirror_mode": {
    "name": "ipython",
    "version": 3
   },
   "file_extension": ".py",
   "mimetype": "text/x-python",
   "name": "python",
   "nbconvert_exporter": "python",
   "pygments_lexer": "ipython3",
   "version": "3.8.3"
  }
 },
 "nbformat": 4,
 "nbformat_minor": 4
}
