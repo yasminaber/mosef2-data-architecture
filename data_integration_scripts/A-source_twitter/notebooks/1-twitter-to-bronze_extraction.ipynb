{
 "cells": [
  {
   "cell_type": "markdown",
   "metadata": {},
   "source": [
    "# Sommaire"
   ]
  },
  {
   "cell_type": "markdown",
   "metadata": {},
   "source": [
    "- A) Definition des identifiants\n",
    "    - A.1/ Initialisation des identifiants de connexion de l'API Twitter\n",
    "    - A.2/ Initialisation des identifiants de connexion de l'API AWS S3\n",
    "- B) Définition d'une fonction permettant de récupérer des tweets\n",
    "- C) Définition d'une fonction permettant d'écrire les tweets dans un bucket S3 au format JSON\n",
    "- D) Définition de la fonction main avec la logique principale du programme"
   ]
  },
  {
   "cell_type": "code",
   "execution_count": 1,
   "metadata": {},
   "outputs": [],
   "source": [
    "import tweepy\n",
    "import boto3\n",
    "import json\n",
    "from os import environ"
   ]
  },
  {
   "cell_type": "markdown",
   "metadata": {},
   "source": [
    "- **A) Definition des identifiants**"
   ]
  },
  {
   "cell_type": "markdown",
   "metadata": {},
   "source": [
    "***Initialisation des identifiants de connexion de l'API Twitter via des variables d'environnement déclarées sur le Cluster Databricks***"
   ]
  },
  {
   "cell_type": "code",
   "execution_count": 2,
   "metadata": {},
   "outputs": [],
   "source": [
    "twitter_api_key = environ.get('twitter_api_key')\n",
    "twitter_api_secret_key = environ.get('twitter_api_secret_key')\n",
    "twitter_access_token = environ.get('twitter_access_token')\n",
    "twitter_access_token_secret = environ.get('twitter_access_token_secret')"
   ]
  },
  {
   "cell_type": "markdown",
   "metadata": {},
   "source": [
    "***Initialisation des identifiants de connexion de l'API AWS S3 via des variables d'environnement déclarées sur le Cluster Databricks***"
   ]
  },
  {
   "cell_type": "code",
   "execution_count": 3,
   "metadata": {},
   "outputs": [],
   "source": [
    "aws_access_key_id = environ.get('aws_access_key_id')\n",
    "aws_secret_access_key = environ.get('aws_secret_access_key')"
   ]
  },
  {
   "cell_type": "markdown",
   "metadata": {},
   "source": [
    "- **B) Définition d'une fonction permettant de récupérer les tweets à travers des paramètres facile à variabliser**"
   ]
  },
  {
   "cell_type": "code",
   "execution_count": 4,
   "metadata": {},
   "outputs": [],
   "source": [
    "def fetch_tweets(auth, query,max_tweets):\n",
    "    api = tweepy.API(auth)\n",
    "    searched_tweets = []\n",
    "    last_id = -1\n",
    "    while len(searched_tweets) < max_tweets:\n",
    "        count = max_tweets - len(searched_tweets)\n",
    "        try:\n",
    "            new_tweets = api.search(q=query, count=count, max_id=str(last_id - 1))\n",
    "            if not new_tweets:\n",
    "                break\n",
    "            searched_tweets.extend(new_tweets)\n",
    "            last_id = new_tweets[-1].id\n",
    "        except tweepy.TweepError as e:\n",
    "            # depending on TweepError.code, one may want to retry or wait\n",
    "            # to keep things simple, we will give up on an error\n",
    "            break\n",
    "    return searched_tweets"
   ]
  },
  {
   "cell_type": "markdown",
   "metadata": {},
   "source": [
    "- ***C) Définition d'une fonction permettant d'écrire les tweets dans un bucket S3 au format JSON***"
   ]
  },
  {
   "cell_type": "code",
   "execution_count": 5,
   "metadata": {},
   "outputs": [],
   "source": [
    "def write_tweets_in_bucket(tweets,tweet_query,session,bucket):\n",
    "    s3 = session.resource('s3')\n",
    "    for tweet in tweets:\n",
    "        object = s3.Object(bucket, 'brands' + '/' + tweet_query + '/' + 'created_at_' + str(tweet.created_at) + '-' + 'tweet_id_' + str(tweet.id) + '.json')\n",
    "        object.put(Body=json.dumps(tweet._json).encode())"
   ]
  },
  {
   "cell_type": "markdown",
   "metadata": {},
   "source": [
    "***- D) Définition de la fonction main avec la logique principale du programme***\n",
    "\n",
    "   - Le programme principal crée les objects de sessions des API Twitter et S3\n",
    "   - Le programme principal appelle la fonction fetch_tweets pour récupérer les tweets de 3 marques (Renault, Peugeot et Mercedes)\n",
    "   - Le programme principal extrait les tweets au format JSON et les écrit sur le Bucket S3 représentant la couche Bronze du Data Llake\n",
    "   - Le programme principal n'effectue pas de transformation de données. La transformation/nettoyage des données sera fait du passage à la couche Silver du Data Lake dans un autre Programme Python"
   ]
  },
  {
   "cell_type": "code",
   "execution_count": 11,
   "metadata": {},
   "outputs": [],
   "source": [
    "def main():\n",
    "    auth = tweepy.OAuthHandler(twitter_api_key, twitter_api_secret_key)\n",
    "    auth.set_access_token(twitter_access_token, twitter_access_token_secret)\n",
    "    s3_session = boto3.Session(aws_access_key_id,aws_secret_access_key)\n",
    "    data_lake_bronze_layer_bucket = 'cars-benchmark-bronze'\n",
    "    tweet_queries = []\n",
    "    tweet_queries.append({\"brand\": \"Renault\",\"queries\": [\"Renault_fr\", \"Groupe_Renault\"]})\n",
    "    tweet_queries.append({\"brand\": \"Peugeot\",\"queries\": [\"PeugeotFR\", \"Peugeot\"]})\n",
    "    tweet_queries.append({\"brand\": \"Mercedes\",\"queries\": [\"MBFRANCE_\", \"MercedesBenz\"]})\n",
    "    max_tweets_per_query = 300\n",
    "    for brand_tweet_queries in tweet_queries:\n",
    "        for brand_tweet_query in brand_tweet_queries[\"queries\"]:\n",
    "            tweets = fetch_tweets(auth,brand_tweet_query,max_tweets_per_query)\n",
    "            write_tweets_in_bucket(tweets,brand_tweet_queries[\"brand\"],s3_session,data_lake_bronze_layer_bucket)\n",
    "    return 0"
   ]
  },
  {
   "cell_type": "code",
   "execution_count": 12,
   "metadata": {},
   "outputs": [],
   "source": [
    "if __name__ == \"__main__\":\n",
    "    # execute only if run as a script\n",
    "    main()"
   ]
  }
 ],
 "metadata": {
  "kernelspec": {
   "display_name": "Python 3",
   "language": "python",
   "name": "python3"
  },
  "language_info": {
   "codemirror_mode": {
    "name": "ipython",
    "version": 3
   },
   "file_extension": ".py",
   "mimetype": "text/x-python",
   "name": "python",
   "nbconvert_exporter": "python",
   "pygments_lexer": "ipython3",
   "version": "3.8.3"
  }
 },
 "nbformat": 4,
 "nbformat_minor": 4
}
