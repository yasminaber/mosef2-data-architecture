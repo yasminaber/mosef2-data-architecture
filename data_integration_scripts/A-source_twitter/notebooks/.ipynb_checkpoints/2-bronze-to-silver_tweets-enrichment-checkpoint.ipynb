{
 "cells": [
  {
   "cell_type": "markdown",
   "metadata": {},
   "source": [
    "# Sommaire"
   ]
  },
  {
   "cell_type": "markdown",
   "metadata": {},
   "source": [
    "- A) Définition des identifiants\n",
    "    - A.1/ Initialisation clés Google Géo API\n",
    "    - A.2/ Initialisation clés AWS S3 API\n",
    "- B) Définition de la fonction \n",
    "- C) Définition de la fonction"
   ]
  },
  {
   "cell_type": "code",
   "execution_count": 153,
   "metadata": {},
   "outputs": [],
   "source": [
    "import boto3\n",
    "from os import environ\n",
    "import pandas as pd\n",
    "import googlemaps \n",
    "import json\n",
    "import datetime"
   ]
  },
  {
   "cell_type": "markdown",
   "metadata": {},
   "source": [
    "**- A) Définition des identifiants**"
   ]
  },
  {
   "cell_type": "markdown",
   "metadata": {},
   "source": [
    "***Initialisation de la clé pour la connexion à l'API Google Maps via un variable d'environnement déclarée sur le Cluster Databricks***"
   ]
  },
  {
   "cell_type": "code",
   "execution_count": 154,
   "metadata": {},
   "outputs": [],
   "source": [
    "gmaps_api_key = environ.get('gmaps_api_key')\n",
    "\n"
   ]
  },
  {
   "cell_type": "markdown",
   "metadata": {},
   "source": [
    "***Initialisation des indetifiants de connexion de l'API AWS S3 via des variables d'environnement déclarées sur le Cluster Databricks***"
   ]
  },
  {
   "cell_type": "code",
   "execution_count": 155,
   "metadata": {},
   "outputs": [],
   "source": [
    "aws_access_key_id = environ.get('aws_access_key_id')\n",
    "aws_secret_access_key = environ.get('aws_secret_access_key')\n"
   ]
  },
  {
   "cell_type": "markdown",
   "metadata": {},
   "source": [
    "Création d'une fonction qui accède au bucket à partir de la session s3, itère sur les répértoires et accède aux fichiers json dans chaque repertoire (marque) afin de pouvoir selectionner les champs qui nous interesse et les recupérer dans un seul et même dictionnaire"
   ]
  },
  {
   "cell_type": "code",
   "execution_count": 156,
   "metadata": {},
   "outputs": [],
   "source": [
    "def contact_brand_tweets_in_s3(session,bucket,brands,tweets):\n",
    "    s3 = session.resource('s3')\n",
    "    my_bucket = s3.Bucket(bucket)\n",
    "    for brand in brands:\n",
    "        for my_bucket_object in my_bucket.objects.filter(Prefix='brands' + '/' + brand).all():\n",
    "            file_path = my_bucket_object.key\n",
    "            content_object = s3.Object(bucket, file_path)\n",
    "            file_content = content_object.get()['Body'].read().decode()\n",
    "            json_content = json.loads(file_content)\n",
    "            tweet = {}\n",
    "            tweet[\"id\"] = json_content[\"id\"]\n",
    "            tweet[\"text\"] = json_content[\"text\"]\n",
    "            tweet[\"user_location\"] = json_content[\"user\"][\"location\"]\n",
    "            tweet[\"lang\"] = json_content[\"lang\"]\n",
    "            tweet[\"user_lang\"] = json_content[\"user\"][\"lang\"]\n",
    "            tweet[\"place_type\"] = json_content[\"place\"][\"place_type\"] if json_content[\"place\"] is not None else None\n",
    "            tweet[\"place_name\"] = json_content[\"place\"][\"name\"] if json_content[\"place\"] is not None else None\n",
    "            tweet[\"place_full_name\"] = json_content[\"place\"][\"full_name\"] if json_content[\"place\"] is not None else None\n",
    "            tweet[\"place_country_code\"] = json_content[\"place\"][\"country_code\"] if json_content[\"place\"] is not None else None\n",
    "            tweet[\"place_country\"] = json_content[\"place\"][\"country\"] if json_content[\"place\"] is not None else None\n",
    "            tweet[\"brand\"] = brand\n",
    "            tweets.append(tweet)\n",
    "    return tweets"
   ]
  },
  {
   "cell_type": "markdown",
   "metadata": {},
   "source": [
    "Création d'une fonction qui "
   ]
  },
  {
   "cell_type": "code",
   "execution_count": 157,
   "metadata": {},
   "outputs": [],
   "source": [
    "def enrich_tweets_google_api_geocode_location(gmaps,tweets):\n",
    "    api_call_count=0\n",
    "    #loop for calling Google geocode API\n",
    "    for tweet in tweets:\n",
    "        if tweet[\"place_country_code\"] is None:\n",
    "            api_call_count=api_call_count+1\n",
    "            tweet[\"user_location_google_geocode\"] = gmaps.geocode(tweet[\"user_location\"]) if len(tweet[\"user_location\"]) != 0  else None\n",
    "        else:\n",
    "            tweet[\"user_location_google_geocode\"] = None\n",
    "    #loop for getting country code from google geocode results\n",
    "    for tweet in tweets:\n",
    "        tweet[\"user_location_google_geocode_country_code\"] = None\n",
    "        tweet[\"user_location_google_geocode_country_name\"] = None\n",
    "        if tweet[\"user_location_google_geocode\"] is not None and len(tweet[\"user_location_google_geocode\"]) != 0:\n",
    "            json_dump = json.dumps(tweet[\"user_location_google_geocode\"][0])\n",
    "            json_content = json.loads(json_dump)\n",
    "            json_dump = json.dumps(json_content[\"address_components\"])\n",
    "            json_content = json.loads(json_dump)\n",
    "            for addr_compt in json_content:\n",
    "                json_dump = json.dumps(addr_compt)\n",
    "                addr_compt_json_content = json.loads(json_dump)\n",
    "                if addr_compt_json_content[\"types\"][0] == 'country':\n",
    "                    tweet[\"user_location_google_geocode_country_code\"]=addr_compt_json_content[\"short_name\"]\n",
    "                    tweet[\"user_location_google_geocode_country_name\"]=addr_compt_json_content[\"long_name\"]\n",
    "        tweet.pop(\"user_location_google_geocode\")\n",
    "    return api_call_count"
   ]
  },
  {
   "cell_type": "code",
   "execution_count": 158,
   "metadata": {},
   "outputs": [],
   "source": [
    "def calculate_tweets_location(tweets):\n",
    "    for tweet in tweets:\n",
    "        if tweet[\"place_country_code\"] is None:\n",
    "            if tweet[\"user_location_google_geocode_country_code\"] is not None:\n",
    "                tweet[\"calculated_country_code\"] = tweet[\"user_location_google_geocode_country_code\"]\n",
    "            elif tweet[\"lang\"] is not None and tweet[\"lang\"] != 'und':\n",
    "                tweet[\"calculated_country_code\"] = tweet[\"lang\"].upper()\n",
    "            elif tweet[\"user_lang\"] is not None and tweet[\"user_lang\"] != 'und':\n",
    "                tweet[\"calculated_country_code\"] = tweet[\"user_lang\"].upper()\n",
    "            else:\n",
    "                tweet[\"calculated_country_code\"] = 'Unspecified'\n",
    "        else:\n",
    "            tweet[\"calculated_country_code\"] = tweet[\"place_country_code\"]"
   ]
  },
  {
   "cell_type": "code",
   "execution_count": 159,
   "metadata": {},
   "outputs": [],
   "source": [
    "def save_tweets_to_parquet_in_s3(aws_credentials,bucket,brands,tweets):\n",
    "    for brand in brands:\n",
    "        df = pd.DataFrame(tweets)\n",
    "        df.to_parquet(\n",
    "            \"s3://{bucket}/brands/{brand}/{file_name}.parquet\".format(\n",
    "                bucket=bucket,\n",
    "                brand=brand,\n",
    "                file_name=str(datetime.datetime.now()) + '-' +'twitter' + '-' + brand)\n",
    "            , storage_options=aws_credentials)"
   ]
  },
  {
   "cell_type": "code",
   "execution_count": 160,
   "metadata": {},
   "outputs": [],
   "source": [
    "def move_tweets_to_processed_folder_in_s3(session,bucket,brands):\n",
    "    s3 = session.resource('s3')\n",
    "    my_bucket = s3.Bucket(bucket)\n",
    "    for brand in brands:\n",
    "        for my_bucket_object in my_bucket.objects.filter(Prefix='brands' + '/' + brand).all():\n",
    "            s3.Object(bucket, 'processed' + '/' + my_bucket_object.key).copy_from(\n",
    "                CopySource=bucket + '/' + my_bucket_object.key)\n",
    "            my_bucket_object.delete()"
   ]
  },
  {
   "cell_type": "markdown",
   "metadata": {},
   "source": [
    "Définition de la fonction main avec la logique principale du programme "
   ]
  },
  {
   "cell_type": "code",
   "execution_count": 161,
   "metadata": {},
   "outputs": [],
   "source": [
    "def main():\n",
    "    gmaps = googlemaps.Client(gmaps_api_key)\n",
    "    session = boto3.Session(aws_access_key_id,aws_secret_access_key)\n",
    "    aws_credentials = { \"key\": aws_access_key_id, \"secret\": aws_secret_access_key}\n",
    "    bronze_bucket = 'cars-benchmark-bronze'\n",
    "    silver_bucket = 'cars-benchmark-silver'\n",
    "    tweets=[]\n",
    "    brands=[]\n",
    "    brands.append('Mercedes')\n",
    "    brands.append('Renault')\n",
    "    brands.append('Peugeot')\n",
    "    for brand in brands:\n",
    "        brand = [brand]\n",
    "        contact_brand_tweets_in_s3(session,bronze_bucket,brand,tweets)\n",
    "        enrich_tweets_google_api_geocode_location(gmaps,tweets)\n",
    "        calculate_tweets_location(tweets)\n",
    "        save_tweets_to_parquet_in_s3(aws_credentials,silver_bucket,brand,tweets)\n",
    "        move_tweets_to_processed_folder_in_s3(session,bronze_bucket,brand)\n",
    "    return 0"
   ]
  },
  {
   "cell_type": "code",
   "execution_count": 163,
   "metadata": {},
   "outputs": [],
   "source": [
    "if __name__ == \"__main__\":\n",
    "    # execute only if run as a script\n",
    "    main()"
   ]
  }
 ],
 "metadata": {
  "kernelspec": {
   "display_name": "Python 3",
   "language": "python",
   "name": "python3"
  },
  "language_info": {
   "codemirror_mode": {
    "name": "ipython",
    "version": 3
   },
   "file_extension": ".py",
   "mimetype": "text/x-python",
   "name": "python",
   "nbconvert_exporter": "python",
   "pygments_lexer": "ipython3",
   "version": "3.8.3"
  }
 },
 "nbformat": 4,
 "nbformat_minor": 4
}
