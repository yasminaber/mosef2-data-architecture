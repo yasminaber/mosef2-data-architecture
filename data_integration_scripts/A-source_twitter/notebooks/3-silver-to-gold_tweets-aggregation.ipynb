{
 "cells": [
  {
   "cell_type": "code",
   "execution_count": 14,
   "metadata": {},
   "outputs": [],
   "source": [
    "import boto3\n",
    "import pandas as pd\n",
    "from os import environ"
   ]
  },
  {
   "cell_type": "code",
   "execution_count": 16,
   "metadata": {},
   "outputs": [],
   "source": [
    "aws_access_key_id = environ.get('aws_access_key_id')\n",
    "aws_secret_access_key = environ.get('aws_secret_access_key')\n"
   ]
  },
  {
   "cell_type": "code",
   "execution_count": 23,
   "metadata": {},
   "outputs": [],
   "source": [
    "def create_df_all_brands_tweets_from_s3(aws_credentials,bucket,brands):\n",
    "    session = boto3.Session(aws_credentials[\"key\"],aws_credentials[\"secret\"])\n",
    "    s3 = session.resource('s3')\n",
    "    my_bucket = s3.Bucket(bucket)\n",
    "    all_brands_df = pd.DataFrame()\n",
    "    for brand in brands:\n",
    "        brand_df = pd.DataFrame()\n",
    "        for my_bucket_object in my_bucket.objects.filter(Prefix='brands' + '/' + brand).all():\n",
    "            df = pd.read_parquet(\"s3://{bucket}/{filepath}\".format(\n",
    "                bucket=bucket,\n",
    "                filepath=my_bucket_object.key),\n",
    "                                 storage_options=aws_credentials)\n",
    "            brand_df = pd.concat([brand_df, df])\n",
    "        all_brands_df = pd.concat([all_brands_df,brand_df])\n",
    "    return all_brands_df"
   ]
  },
  {
   "cell_type": "code",
   "execution_count": 39,
   "metadata": {},
   "outputs": [],
   "source": [
    "def df_tweets_clean_remove_tweet_text(df):\n",
    "    return df.drop(columns=[\"text\"])"
   ]
  },
  {
   "cell_type": "code",
   "execution_count": 37,
   "metadata": {},
   "outputs": [],
   "source": [
    "def save_df_to_s3_csv(aws_credentials,bucket,df):\n",
    "    filename = 'cars_all_brands_tweets.csv'\n",
    "    filedir = 'cars_all_brands_tweets'\n",
    "    df.to_csv(\"s3://{bucket}/{filepath}\".format(\n",
    "        bucket=bucket,\n",
    "        filepath=filedir + '/' + filename),\n",
    "              storage_options=aws_credentials, index=False)"
   ]
  },
  {
   "cell_type": "code",
   "execution_count": 40,
   "metadata": {},
   "outputs": [],
   "source": [
    "def main():\n",
    "    aws_credentials = { \"key\": aws_access_key_id, \"secret\": aws_secret_access_key}\n",
    "    silver_bucket = 'cars-benchmark-silver'\n",
    "    gold_bucket = 'cars-benchmark-gold'\n",
    "    brands=[]\n",
    "    brands.append('Mercedes')\n",
    "    brands.append('Renault')\n",
    "    brands.append('Peugeot')\n",
    "    df = create_df_all_brands_tweets_from_s3(aws_credentials,silver_bucket,brands)\n",
    "    df = df_tweets_clean_remove_tweet_text(df)\n",
    "    save_df_to_s3_csv(aws_credentials,gold_bucket,df)\n",
    "    return 0"
   ]
  },
  {
   "cell_type": "code",
   "execution_count": 45,
   "metadata": {},
   "outputs": [],
   "source": [
    "if __name__ == \"__main__\":\n",
    "    # execute only if run as a script\n",
    "    main()"
   ]
  }
 ],
 "metadata": {
  "kernelspec": {
   "display_name": "Python 3",
   "language": "python",
   "name": "python3"
  },
  "language_info": {
   "codemirror_mode": {
    "name": "ipython",
    "version": 3
   },
   "file_extension": ".py",
   "mimetype": "text/x-python",
   "name": "python",
   "nbconvert_exporter": "python",
   "pygments_lexer": "ipython3",
   "version": "3.8.3"
  }
 },
 "nbformat": 4,
 "nbformat_minor": 4
}
