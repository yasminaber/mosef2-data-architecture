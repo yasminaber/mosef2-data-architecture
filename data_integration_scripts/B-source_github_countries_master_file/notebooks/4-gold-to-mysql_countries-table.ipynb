{
 "cells": [
  {
   "cell_type": "code",
   "execution_count": 8,
   "metadata": {},
   "outputs": [],
   "source": [
    "import pandas as pd\n",
    "import boto3\n",
    "from sqlalchemy import create_engine\n",
    "from os import environ"
   ]
  },
  {
   "cell_type": "code",
   "execution_count": 9,
   "metadata": {},
   "outputs": [],
   "source": [
    "aws_access_key_id = environ.get('aws_access_key_id')\n",
    "aws_secret_access_key = environ.get('aws_secret_access_key')\n"
   ]
  },
  {
   "cell_type": "code",
   "execution_count": 10,
   "metadata": {},
   "outputs": [],
   "source": [
    "mysql_user = environ.get('mysql_user')\n",
    "mysql_user_password = environ.get('mysql_user_password')\n",
    "mysql_host = environ.get('mysql_host')\n",
    "mysq_database = environ.get('mysq_database')\n"
   ]
  },
  {
   "cell_type": "code",
   "execution_count": 11,
   "metadata": {},
   "outputs": [],
   "source": [
    "def df_read_master_data_from_s3(aws_credentials,bucket,filepath):\n",
    "    session = boto3.Session(aws_credentials[\"key\"],aws_credentials[\"secret\"])\n",
    "    s3 = session.resource('s3')\n",
    "    my_bucket = s3.Bucket(bucket)\n",
    "    df_all_countries = pd.DataFrame()\n",
    "    for my_bucket_object in my_bucket.objects.filter(Prefix=filepath).all():\n",
    "        df = pd.read_csv(\"s3://{bucket}/{filepath}\".format(\n",
    "                bucket=bucket,\n",
    "                filepath=my_bucket_object.key),\n",
    "                         encoding='utf-8',\n",
    "                         storage_options=aws_credentials)\n",
    "        df_all_countries = pd.concat([df_all_countries,df])\n",
    "    return df_all_countries"
   ]
  },
  {
   "cell_type": "code",
   "execution_count": 12,
   "metadata": {},
   "outputs": [],
   "source": [
    "def df_write_github_countries_in_mysql(mysql_credentials,df):\n",
    "    engine = create_engine(\"mysql://{user}:{password}@{host}/{database}?charset=utf8mb4\".format(\n",
    "        user=mysql_credentials[\"user\"],\n",
    "        password=mysql_credentials[\"user_password\"],\n",
    "        host=mysql_credentials[\"host\"],\n",
    "        database=mysql_credentials[\"database\"])\n",
    "                          )\n",
    "    df.to_sql(con=engine, name='github_countries', if_exists='replace')"
   ]
  },
  {
   "cell_type": "code",
   "execution_count": 13,
   "metadata": {},
   "outputs": [],
   "source": [
    "def main():\n",
    "    aws_credentials = { \"key\": aws_access_key_id, \"secret\": aws_secret_access_key}\n",
    "    mysql_credentials = {\"user\": mysql_user, \"user_password\":mysql_user_password, \"host\": mysql_host, \"database\": mysq_database}\n",
    "    gold_bucket = 'cars-benchmark-gold'\n",
    "    filedir = 'github'\n",
    "    filename = 'countries'\n",
    "    filepath = filedir + '/' + filename\n",
    "    df = df_read_master_data_from_s3(aws_credentials,gold_bucket,filepath)\n",
    "    df_write_github_countries_in_mysql(mysql_credentials,df)\n",
    "    return 0"
   ]
  },
  {
   "cell_type": "code",
   "execution_count": 14,
   "metadata": {},
   "outputs": [],
   "source": [
    "if __name__ == \"__main__\":\n",
    "    # execute only if run as a script\n",
    "    main()"
   ]
  }
 ],
 "metadata": {
  "kernelspec": {
   "display_name": "Python 3",
   "language": "python",
   "name": "python3"
  },
  "language_info": {
   "codemirror_mode": {
    "name": "ipython",
    "version": 3
   },
   "file_extension": ".py",
   "mimetype": "text/x-python",
   "name": "python",
   "nbconvert_exporter": "python",
   "pygments_lexer": "ipython3",
   "version": "3.8.3"
  }
 },
 "nbformat": 4,
 "nbformat_minor": 4
}
