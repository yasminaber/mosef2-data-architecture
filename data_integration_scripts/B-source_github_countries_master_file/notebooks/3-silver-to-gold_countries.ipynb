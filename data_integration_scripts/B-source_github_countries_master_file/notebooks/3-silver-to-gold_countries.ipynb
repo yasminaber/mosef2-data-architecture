{
 "cells": [
  {
   "cell_type": "code",
   "execution_count": 3,
   "metadata": {},
   "outputs": [],
   "source": [
    "import boto3\n",
    "import pandas as pd\n",
    "from os import environ"
   ]
  },
  {
   "cell_type": "code",
   "execution_count": 2,
   "metadata": {},
   "outputs": [],
   "source": [
    "aws_access_key_id = environ.get('aws_access_key_id')\n",
    "aws_secret_access_key = environ.get('aws_secret_access_key')\n"
   ]
  },
  {
   "cell_type": "code",
   "execution_count": 8,
   "metadata": {},
   "outputs": [],
   "source": [
    "def df_create_from_s3(aws_credentials,bucket,filepath):\n",
    "    df = pd.read_parquet(\"s3://{bucket}/{filepath}\".format(\n",
    "        bucket=bucket,\n",
    "        filepath=filepath),\n",
    "                         storage_options=aws_credentials)\n",
    "    return df"
   ]
  },
  {
   "cell_type": "code",
   "execution_count": 11,
   "metadata": {},
   "outputs": [],
   "source": [
    "def save_df_to_s3_csv(aws_credentials,bucket,df,filepath):\n",
    "    df.to_csv(\"s3://{bucket}/{filepath}\".format(\n",
    "        bucket=bucket,\n",
    "        filepath=filepath),\n",
    "              storage_options=aws_credentials, index=False)"
   ]
  },
  {
   "cell_type": "code",
   "execution_count": 14,
   "metadata": {},
   "outputs": [],
   "source": [
    "def main():\n",
    "    aws_credentials = { \"key\": aws_access_key_id, \"secret\": aws_secret_access_key}\n",
    "    silver_bucket = 'cars-benchmark-silver'\n",
    "    gold_bucket = 'cars-benchmark-gold'\n",
    "    src_filepath = 'github/countries.parquet'\n",
    "    trg_filepath = 'github/countries.csv'\n",
    "    df = df_create_from_s3(aws_credentials,silver_bucket,src_filepath)\n",
    "    save_df_to_s3_csv(aws_credentials,gold_bucket,df,trg_filepath)\n",
    "    return 0"
   ]
  },
  {
   "cell_type": "code",
   "execution_count": 20,
   "metadata": {},
   "outputs": [],
   "source": [
    "if __name__ == \"__main__\":\n",
    "    # execute only if run as a script\n",
    "    main()"
   ]
  }
 ],
 "metadata": {
  "kernelspec": {
   "display_name": "Python 3",
   "language": "python",
   "name": "python3"
  },
  "language_info": {
   "codemirror_mode": {
    "name": "ipython",
    "version": 3
   },
   "file_extension": ".py",
   "mimetype": "text/x-python",
   "name": "python",
   "nbconvert_exporter": "python",
   "pygments_lexer": "ipython3",
   "version": "3.8.3"
  }
 },
 "nbformat": 4,
 "nbformat_minor": 4
}
